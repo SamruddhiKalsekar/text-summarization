{
 "cells": [
  {
   "cell_type": "code",
   "execution_count": 3,
   "metadata": {},
   "outputs": [
    {
     "name": "stdout",
     "output_type": "stream",
     "text": [
      "Collecting sentencepiece\n",
      "  Downloading sentencepiece-0.1.85-cp36-cp36m-win_amd64.whl (1.2 MB)\n",
      "Installing collected packages: sentencepiece\n",
      "Successfully installed sentencepiece-0.1.85\n"
     ]
    }
   ],
   "source": [
    "!pip install sentencepiece"
   ]
  },
  {
   "cell_type": "code",
   "execution_count": 39,
   "metadata": {},
   "outputs": [],
   "source": [
    "import sentencepiece as spm"
   ]
  },
  {
   "cell_type": "code",
   "execution_count": 5,
   "metadata": {},
   "outputs": [
    {
     "data": {
      "text/plain": [
       "True"
      ]
     },
     "execution_count": 5,
     "metadata": {},
     "output_type": "execute_result"
    }
   ],
   "source": [
    "\n",
    "sp.Load(\"D:/nlp_mini/kannada_lm.model\")"
   ]
  },
  {
   "cell_type": "code",
   "execution_count": 7,
   "metadata": {},
   "outputs": [],
   "source": [
    "kannada_sample_text = \"ಬೆಂಗಳೂರಿನಲ್ಲಿ ಆಫ್ರಿಕಾ ಮಹಿಳೆಯರ ವೇಶ್ಯಾವಾಟಿಕೆ ದಂಧೆ; ಪೊಲೀಸರ ಮುಂದೇ ಅರೆ ನಗ್ನಳಾಗಿ ಕೂಗಾಡಿದ ಮಹಿಳೆ\""
   ]
  },
  {
   "cell_type": "code",
   "execution_count": 8,
   "metadata": {},
   "outputs": [
    {
     "data": {
      "text/plain": [
       "['▁ಬೆಂಗಳೂರಿನಲ್ಲಿ',\n",
       " '▁ಆಫ್ರಿಕಾ',\n",
       " '▁ಮಹಿಳೆಯರ',\n",
       " '▁ವೇ',\n",
       " 'ಶ್',\n",
       " 'ಯಾವ',\n",
       " 'ಾಟ',\n",
       " 'ಿಕೆ',\n",
       " '▁ದ',\n",
       " 'ಂಧ',\n",
       " 'ೆ',\n",
       " ';',\n",
       " '▁ಪೊಲೀಸರ',\n",
       " '▁ಮುಂದ',\n",
       " 'ೇ',\n",
       " '▁ಅರೆ',\n",
       " '▁ನಗ್ನ',\n",
       " 'ಳಾಗಿ',\n",
       " '▁ಕೂಗ',\n",
       " 'ಾಡಿದ',\n",
       " '▁ಮಹಿಳೆ']"
      ]
     },
     "execution_count": 8,
     "metadata": {},
     "output_type": "execute_result"
    }
   ],
   "source": [
    "sp.EncodeAsPieces(kannada_sample_text)"
   ]
  },
  {
   "cell_type": "code",
   "execution_count": 10,
   "metadata": {},
   "outputs": [
    {
     "name": "stdout",
     "output_type": "stream",
     "text": [
      "Collecting nltk\n",
      "  Downloading nltk-3.4.5.zip (1.5 MB)\n",
      "Requirement already satisfied: six in c:\\users\\chelsea fernandes\\appdata\\local\\programs\\python\\python36\\lib\\site-packages (from nltk) (1.12.0)\n",
      "Installing collected packages: nltk\n",
      "    Running setup.py install for nltk: started\n",
      "    Running setup.py install for nltk: finished with status 'done'\n",
      "Successfully installed nltk-3.4.5\n"
     ]
    }
   ],
   "source": [
    "!pip install nltk"
   ]
  },
  {
   "cell_type": "code",
   "execution_count": 40,
   "metadata": {},
   "outputs": [],
   "source": [
    "from collections import Counter"
   ]
  },
  {
   "cell_type": "code",
   "execution_count": 42,
   "metadata": {},
   "outputs": [
    {
     "name": "stdout",
     "output_type": "stream",
     "text": [
      "[' ನವದೆಹಲಿ: ಕಳೆದ ವಾರ ನಡೆದ ಎರಡನೇ ಶೆರ್ಪಾಸ್ ಸಭೆಯಲ್ಲಿ ಪಾಲ್ಗೊಳ್ಳಲು ಸೌದಿ ಅರೇಬಿಯಾಕ್ಕೆ ಹೋಗಿದ್ದ ಬಿಜೆಪಿ ಸಂಸದ ಸುರೇಶ್ ಪ್ರಭು ಭಾರತಕ್ಕೆ ಮರಳಿ ಬಂದ ನಂತರ ಕೊರೋನಾ ವೈರಸ್ ಪರೀಕ್ಷೆಯನ್ನು ಸಹ ಮಾಡಿಸಿಕೊಂಡಿದ್ದರು.', 'ಪರೀಕ್ಷೆಯಲ್ಲಿ ಅವರಲ್ಲಿ ಕೊರೋನಾ ಸೋಂಕು ಇಲ್ಲ ಎಂದು ದೃಢವಾಗಿದೆ.', 'ಆದರೂ ಸಹ ಮುಂಜಾಗ್ರತ ಕ್ರಮವಾಗಿ ಸ್ವ ಇಚ್ಛೆಯಿಂದ ಮನೆಯಲ್ಲಿಯೇ 14 ಚೀನಾದಲ್ಲಿ 3,200 ಜನರನ್ನು ಹಾಗೂ ವಿಶ್ವದಾದ್ಯಂತ ಸುಮಾರು 8,000 ಜನರನ್ನು ಬಲಿ ಪಡೆದ ಕೊರೋನಾ ವೈರಸ್ ಭಾರತದಲ್ಲೂ ತನ್ನ ಅಟ್ಟಹಾಸ ಮುಂದುವರಿಸಿದೆ.', 'ಈಗಾಗಲೇ ಭಾರತದಲ್ಲಿ ಮೂವರು ಸಾವನ್ನಪ್ಪಿದ್ದು, 147 ಜನರು ಸೋಂಕಿತರಾಗಿದ್ದಾರೆ.', 'ಕರ್ನಾಟಕದಲ್ಲಿ ಈಗಾಗಲೇ ಮುಂಜಾಗ್ರತಾ ಕ್ರಮವಾಗಿ ಒಂದು ವಾರ ಬಂದ್ ಘೋಷಿಸಲಾಗಿತ್ತು.', 'ಕೊರೋನಾ ಹರಡುವಿಕೆ ತಹಬಂದಿಗೆ ಬರದ ಕಾರಣ ಬಂದ್ ಕಾಲಾವಧಿಯನ್ನು ಮತ್ತೂ ಒಂದು ವಾರ ಮುಂದುವರೆಸಲು ಸಿಎಂ ಬಿಎಸ್ ಯಡಿಯೂರಪ್ಪ ಚಿಂತನೆ ನಡೆಸಿದ್ದಾರೆ.', 'ಈ ಬಗ್ಗೆ ಕ್ಷಣ ಕ್ಷಣದ ಮಾಹಿತಿ ನ್ಯೂಸ್ ಕನ್ನಡದಲ್ಲಿ.', 'ಕಳೆದ ವಾರ ನಡೆದ']\n",
      "['▁ಬೆಂಗಳೂರಿನಲ್ಲಿ', '▁ಆಫ್ರಿಕಾ', '▁ಮಹಿಳೆಯರ', '▁ವೇ', 'ಶ್', 'ಯಾವ', 'ಾಟ', 'ಿಕೆ', '▁ದ', 'ಂಧ', 'ೆ', ';', '▁ಪೊಲೀಸರ', '▁ಮುಂದ', 'ೇ', '▁ಅರೆ', '▁ನಗ್ನ', 'ಳಾಗಿ', '▁ಕೂಗ', 'ಾಡಿದ', '▁ಮಹಿಳೆ']\n",
      "Counter({'▁ಬೆಂಗಳೂರಿನಲ್ಲಿ': 1, '▁ಆಫ್ರಿಕಾ': 1, '▁ಮಹಿಳೆಯರ': 1, '▁ವೇ': 1, 'ಶ್': 1, 'ಯಾವ': 1, 'ಾಟ': 1, 'ಿಕೆ': 1, '▁ದ': 1, 'ಂಧ': 1, 'ೆ': 1, ';': 1, '▁ಪೊಲೀಸರ': 1, '▁ಮುಂದ': 1, 'ೇ': 1, '▁ಅರೆ': 1, '▁ನಗ್ನ': 1, 'ಳಾಗಿ': 1, '▁ಕೂಗ': 1, 'ಾಡಿದ': 1, '▁ಮಹಿಳೆ': 1})\n",
      "ಪರೀಕ್ಷೆಯಲ್ಲಿ ಅವರಲ್ಲಿ ಕೊರೋನಾ ಸೋಂಕು ಇಲ್ಲ ಎಂದು ದೃಢವಾಗಿದೆ. ಕೊರೋನಾ ಹರಡುವಿಕೆ ತಹಬಂದಿಗೆ ಬರದ ಕಾರಣ ಬಂದ್ ಕಾಲಾವಧಿಯನ್ನು ಮತ್ತೂ ಒಂದು ವಾರ ಮುಂದುವರೆಸಲು ಸಿಎಂ ಬಿಎಸ್ ಯಡಿಯೂರಪ್ಪ ಚಿಂತನೆ ನಡೆಸಿದ್ದಾರೆ. ಕಳೆದ ವಾರ ನಡೆದ ಕರ್ನಾಟಕದಲ್ಲಿ ಈಗಾಗಲೇ ಮುಂಜಾಗ್ರತಾ ಕ್ರಮವಾಗಿ ಒಂದು ವಾರ ಬಂದ್ ಘೋಷಿಸಲಾಗಿತ್ತು. ಈಗಾಗಲೇ ಭಾರತದಲ್ಲಿ ಮೂವರು ಸಾವನ್ನಪ್ಪಿದ್ದು, 147 ಜನರು ಸೋಂಕಿತರಾಗಿದ್ದಾರೆ.\n"
     ]
    }
   ],
   "source": [
    "import re\n",
    "import nltk\n",
    "from nltk import sent_tokenize, word_tokenize\n",
    "with open(\"stop_words.txt\",encoding='utf-8') as f:\n",
    "    d=(f.read()).strip('\\n')\n",
    "\n",
    "stopwords=d.split('\\n')\n",
    "\n",
    "def tokenize(text):        \n",
    "        sp = spm.SentencePieceProcessor()\n",
    "        sp.Load(\"D:/nlp_mini/kannada_lm.model\")\n",
    "        return sp.EncodeAsPieces(kannada_sample_text)\n",
    "\n",
    "class Luhn_Summarizer():\n",
    "    def __init__(self):\n",
    "        pass\n",
    "    \n",
    "\n",
    "    def clean_and_tokenize(self, article_text):\n",
    "        # Removing Square Brackets and Extra Spaces\n",
    "        article_text = re.sub(r'\\[[0-9]*\\]', ' ', article_text)\n",
    "        article_text = re.sub(r'\\s+', ' ', article_text)\n",
    "\n",
    "        #sentence tokenization\n",
    "        sentences = nltk.sent_tokenize(article_text)\n",
    "        print(sentences)\n",
    "\n",
    "        # Removing special characters and digits\n",
    "        formatted_article_text = re.sub('[^a-zA-Z]', ' ', article_text )\n",
    "        formatted_article_text = re.sub(r'\\s+', ' ', formatted_article_text)\n",
    "        return sentences, formatted_article_text\n",
    "\n",
    "\n",
    "    def find_word_frequencies(self, cleaned_text):\n",
    "#         print(tokenize(cleaned_text))\n",
    "        word_frequencies = Counter(tokenize(cleaned_text))\n",
    "#         print(word_frequencies)\n",
    "        \n",
    "#         for word in nltk.word_tokenize(cleaned_text):\n",
    "#             if word not in stopwords:\n",
    "#                 if word not in word_frequencies.keys():\n",
    "#                     word_frequencies[word] = 1\n",
    "#                 else:\n",
    "#                     word_frequencies[word] += 1\n",
    "\n",
    "        maximum_frequncy = max(word_frequencies.values())\n",
    "\n",
    "        for word in word_frequencies.keys():\n",
    "            word_frequencies[word] = (word_frequencies[word]/maximum_frequncy)\n",
    "\n",
    "        return word_frequencies\n",
    "\n",
    "    def calculate_sentence_scores(self, sentences, word_frequencies):\n",
    "        sentence_scores = {}\n",
    "        for sent in sentences:\n",
    "#             for word in nltk.word_tokenize(sent.lower()):\n",
    "            for word in tokenize(sent.lower()):\n",
    "                if word in word_frequencies.keys():\n",
    "                    if len(sent.split(' ')) < 30:\n",
    "                        if sent not in sentence_scores.keys():\n",
    "                            sentence_scores[sent] = word_frequencies[word]\n",
    "                        else:\n",
    "                            sentence_scores[sent] += word_frequencies[word]\n",
    "        return sentence_scores\n",
    "\n",
    "    def summarize(self, article, num_sent=None):\n",
    "        sentences, cleaned_text = self.clean_and_tokenize(article)\n",
    "        original_length = len(sentences)\n",
    "        word_freq = self.find_word_frequencies(cleaned_text)\n",
    "        sentence_scores = sorted(self.calculate_sentence_scores(sentences, word_freq), reverse=True)\n",
    "        if num_sent:\n",
    "            if int(num_sent) < original_length:\n",
    "                return ' '.join(sentence_scores[:int(num_sent)])\n",
    "        if original_length > 5:\n",
    "            return ' '.join(sentence_scores[:5])\n",
    "        else:\n",
    "            return 'Too short to summarize'\n",
    "\n",
    "\n",
    "def luhn_summarize(text, num_sent=None):\n",
    "    summarizer = Luhn_Summarizer()\n",
    "    summary = summarizer.summarize(text, num_sent=num_sent)\n",
    "    return summary\n",
    "\n",
    "\n",
    "if __name__ == '__main__':\n",
    "    text = '''\n",
    "    ನವದೆಹಲಿ: ಕಳೆದ ವಾರ ನಡೆದ ಎರಡನೇ ಶೆರ್ಪಾಸ್ ಸಭೆಯಲ್ಲಿ ಪಾಲ್ಗೊಳ್ಳಲು ಸೌದಿ ಅರೇಬಿಯಾಕ್ಕೆ ಹೋಗಿದ್ದ ಬಿಜೆಪಿ ಸಂಸದ ಸುರೇಶ್ ಪ್ರಭು ಭಾರತಕ್ಕೆ ಮರಳಿ ಬಂದ ನಂತರ ಕೊರೋನಾ ವೈರಸ್ ಪರೀಕ್ಷೆಯನ್ನು ಸಹ ಮಾಡಿಸಿಕೊಂಡಿದ್ದರು. ಪರೀಕ್ಷೆಯಲ್ಲಿ ಅವರಲ್ಲಿ ಕೊರೋನಾ ಸೋಂಕು ಇಲ್ಲ ಎಂದು ದೃಢವಾಗಿದೆ. ಆದರೂ ಸಹ ಮುಂಜಾಗ್ರತ ಕ್ರಮವಾಗಿ ಸ್ವ ಇಚ್ಛೆಯಿಂದ ಮನೆಯಲ್ಲಿಯೇ 14\n",
    "    ಚೀನಾದಲ್ಲಿ 3,200 ಜನರನ್ನು ಹಾಗೂ ವಿಶ್ವದಾದ್ಯಂತ ಸುಮಾರು 8,000  ಜನರನ್ನು ಬಲಿ ಪಡೆದ ಕೊರೋನಾ ವೈರಸ್ ಭಾರತದಲ್ಲೂ ತನ್ನ ಅಟ್ಟಹಾಸ ಮುಂದುವರಿಸಿದೆ. ಈಗಾಗಲೇ ಭಾರತದಲ್ಲಿ ಮೂವರು ಸಾವನ್ನಪ್ಪಿದ್ದು, 147 ಜನರು ಸೋಂಕಿತರಾಗಿದ್ದಾರೆ. ಕರ್ನಾಟಕದಲ್ಲಿ ಈಗಾಗಲೇ ಮುಂಜಾಗ್ರತಾ ಕ್ರಮವಾಗಿ ಒಂದು ವಾರ ಬಂದ್ ಘೋಷಿಸಲಾಗಿತ್ತು. ಕೊರೋನಾ ಹರಡುವಿಕೆ ತಹಬಂದಿಗೆ ಬರದ ಕಾರಣ ಬಂದ್ ಕಾಲಾವಧಿಯನ್ನು ಮತ್ತೂ ಒಂದು ವಾರ ಮುಂದುವರೆಸಲು ಸಿಎಂ ಬಿಎಸ್ ಯಡಿಯೂರಪ್ಪ ಚಿಂತನೆ ನಡೆಸಿದ್ದಾರೆ. ಈ ಬಗ್ಗೆ ಕ್ಷಣ ಕ್ಷಣದ ಮಾಹಿತಿ ನ್ಯೂಸ್ ಕನ್ನಡದಲ್ಲಿ.\n",
    "    ಕಳೆದ ವಾರ ನಡೆದ\n",
    "    '''\n",
    "    summary = luhn_summarize(text)\n",
    "    print(summary)"
   ]
  },
  {
   "cell_type": "code",
   "execution_count": 23,
   "metadata": {},
   "outputs": [],
   "source": [
    "with open(\"stop_words.txt\",encoding='utf-8') as f:\n",
    "    d=(f.read()).strip('\\n')\n",
    "\n",
    "stopwords=d.split('\\n')"
   ]
  },
  {
   "cell_type": "code",
   "execution_count": 24,
   "metadata": {},
   "outputs": [
    {
     "name": "stdout",
     "output_type": "stream",
     "text": [
      "['ಈ', 'ಆದರೆ', 'ಎಂದು', 'ಅವರ', 'ಮತ್ತು', 'ಎಂಬ', 'ಅವರು', 'ಒಂದು', 'ಬಗ್ಗೆ', 'ಆ', 'ಇದೆ', 'ಇದು', 'ನಾನು', 'ಮೂಲಕ', 'ನನ್ನ', 'ಅದು', 'ಮೇಲೆ', 'ಈಗ', 'ಹಾಗೂ', 'ಇಲ್ಲ', 'ಮೊದಲ', 'ನನಗೆ', 'ಹೆಚ್ಚು', 'ಅವರಿಗೆ', 'ತಮ್ಮ', 'ಮಾಡಿ', 'ನಮ್ಮ', 'ಮಾತ್ರ', 'ದೊಡ್ಡ', 'ಅದೇ', 'ಕೂಡ', 'ಸಿನಿಮಾ', 'ಯಾವುದೇ', 'ಯಾವ', 'ಆಗ', 'ತುಂಬಾ', 'ನಾವು', 'ದಿನ', 'ಬೇರೆ', 'ಅವರನ್ನು', 'ಎಲ್ಲಾ', 'ನೀವು', 'ಸಾಕಷ್ಟು', 'ಕನ್ನಡ', 'ಹೊಸ', 'ಮುಂದೆ', 'ಹೇಗೆ', 'ನಂತರ', 'ಇಲ್ಲಿ', 'ಕೆಲಸ', 'ಅಲ್ಲ', 'ಬಳಿಕ', 'ಒಳ್ಳೆಯ', 'ಹಾಗಾಗಿ', 'ಒಂದೇ', 'ಜನ', 'ಅದನ್ನು', 'ಬಂದ', 'ಕಾರಣ', 'ಅವಕಾಶ', 'ವರ್ಷ', 'ನಿಮ್ಮ', 'ಇತ್ತು', 'ಚಿತ್ರ', 'ಹೇಳಿ', 'ಮಾಡಿದ', 'ಅದಕ್ಕೆ', 'ಆಗಿ', 'ಎಂಬುದು', 'ಅಂತ', '2', 'ಕೆಲವು', 'ಮೊದಲು', 'ಬಂದು', 'ಇದೇ', 'ನೋಡಿ', 'ಕೇವಲ', 'ಎರಡು', 'ಇನ್ನು', 'ಅಷ್ಟೇ', 'ಎಷ್ಟು', 'ಚಿತ್ರದ', 'ಮಾಡಬೇಕು', 'ಹೀಗೆ', 'ಕುರಿತು', '5', 'ಉತ್ತರ', 'ಎಂದರೆ', 'ಇನ್ನೂ', 'ಮತ್ತೆ', 'ಏನು', 'ಪಾತ್ರ', 'ಮುಂದಿನ', 'ಸಂದರ್ಭದಲ್ಲಿ', 'ಮಾಡುವ', 'ವೇಳೆ', 'ನನ್ನನ್ನು', 'ಮೂರು', 'ಅಥವಾ', 'ಜೊತೆಗೆ', 'ಹೆಸರು', 'ಚಿತ್ರದಲ್ಲಿ']\n"
     ]
    }
   ],
   "source": [
    "print(stopwords)"
   ]
  },
  {
   "cell_type": "code",
   "execution_count": null,
   "metadata": {},
   "outputs": [],
   "source": []
  }
 ],
 "metadata": {
  "kernelspec": {
   "display_name": "Python 3",
   "language": "python",
   "name": "python3"
  },
  "language_info": {
   "codemirror_mode": {
    "name": "ipython",
    "version": 3
   },
   "file_extension": ".py",
   "mimetype": "text/x-python",
   "name": "python",
   "nbconvert_exporter": "python",
   "pygments_lexer": "ipython3",
   "version": "3.6.7"
  }
 },
 "nbformat": 4,
 "nbformat_minor": 4
}
